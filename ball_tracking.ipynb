{
 "cells": [
  {
   "cell_type": "markdown",
   "metadata": {},
   "source": [
    "## Ball Tracking with OpenCV\n"
   ]
  },
  {
   "cell_type": "markdown",
   "metadata": {},
   "source": [
    "The goal here is fair self-explanatory:\n",
    "\n",
    "    Step #1: Detect the presence of a colored ball using computer vision techniques.\n",
    "    Step #2: Track the ball as it moves around in the video frames, drawing its previous positions as it moves.\n"
   ]
  },
  {
   "cell_type": "code",
   "execution_count": 1,
   "metadata": {},
   "outputs": [],
   "source": [
    "from collections import deque\n",
    "from imutils.video import VideoStream\n",
    "import numpy as np\n",
    "import argparse\n",
    "import cv2\n",
    "import imutils\n",
    "import time"
   ]
  },
  {
   "cell_type": "code",
   "execution_count": 3,
   "metadata": {},
   "outputs": [],
   "source": [
    "greenLower = (29, 86, 6)#range of green colour\n",
    "greenUpper = (64, 255, 255)\n",
    "pts = deque(maxlen=64) # list like data structure to store last location of ball in queue "
   ]
  },
  {
   "cell_type": "code",
   "execution_count": null,
   "metadata": {},
   "outputs": [],
   "source": [
    "vs = cv2.VideoCapture('ball_tracking_example.mp4')  #capturing video and reading frames from it \n",
    "while True:\n",
    "    frame=vs.read()\n",
    "    frame=frame[1]\n",
    "    frame = imutils.resize(frame, width=600)\n",
    "    blurred = cv2.GaussianBlur(frame, (11, 11), 0)#reduce high frequency noise\n",
    "    hsv = cv2.cvtColor(blurred, cv2.COLOR_BGR2HSV)#convert to hsv\n",
    "    mask = cv2.inRange(hsv, greenLower, greenUpper) # a mask for green color\n",
    "    mask = cv2.erode(mask, None, iterations=2)      #erosions and dilations to remove any small blobs left in mask\n",
    "    mask = cv2.dilate(mask, None, iterations=2)\n",
    "    cnts = cv2.findContours(mask.copy(), cv2.RETR_EXTERNAL,cv2.CHAIN_APPROX_SIMPLE)#finding contour in mask\n",
    "    cnts = cnts[0] if imutils.is_cv2() else cnts[1] \n",
    "    center = None\n",
    "    if(len(cnts)>0):\n",
    "        # find the largest contour in the mask, then use it to compute the minimum enclosing circle and centroid\n",
    "        c=max(cnts,key=cv2.contourArea)\n",
    "        ((x,y),radius)=cv2.minEnclosingCircle(c)\n",
    "        M = cv2.moments(c)#to find different features of contour like area,centroid,etc\n",
    "        center = (int(M[\"m10\"] / M[\"m00\"]), int(M[\"m01\"] / M[\"m00\"]))\n",
    "        \n",
    "        if radius > 10:\n",
    "\n",
    "            cv2.circle(frame, (int(x), int(y)), int(radius),\n",
    "                (0, 255, 255), 2)\n",
    "            cv2.circle(frame, center, 5, (0, 0, 255), -1)\n",
    " \n",
    "    # update the points queue\n",
    "    pts.appendleft(center)\n",
    "\n",
    "    for i in range(1, len(pts)):# loop over the set of tracked points\n",
    "        # if either of the tracked points are None, ignore them\n",
    "        if pts[i - 1] is None or pts[i] is None:\n",
    "            continue\n",
    " \n",
    "        # otherwise, compute the thickness of the line and draw the connecting lines\n",
    "        thickness = int(np.sqrt(64 / float(i + 1)) * 2.5)\n",
    "        cv2.line(frame, pts[i - 1], pts[i], (0, 0, 255), thickness)\n",
    " \n",
    "    # show the frame to our screen\n",
    "    cv2.imshow('mask',mask)\n",
    "    cv2.imshow(\"Frame\", frame)\n",
    "    key = cv2.waitKey(1) & 0xFF\n",
    " \n",
    "    # if the 'q' key is pressed, stop the loop\n",
    "    if key == ord(\"q\"):\n",
    "        break\n",
    "cv2.destroyAllWindows()        "
   ]
  },
  {
   "cell_type": "code",
   "execution_count": null,
   "metadata": {},
   "outputs": [],
   "source": []
  }
 ],
 "metadata": {
  "kernelspec": {
   "display_name": "Python 3",
   "language": "python",
   "name": "python3"
  },
  "language_info": {
   "codemirror_mode": {
    "name": "ipython",
    "version": 3
   },
   "file_extension": ".py",
   "mimetype": "text/x-python",
   "name": "python",
   "nbconvert_exporter": "python",
   "pygments_lexer": "ipython3",
   "version": "3.6.3"
  }
 },
 "nbformat": 4,
 "nbformat_minor": 2
}
